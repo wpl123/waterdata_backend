{
 "cells": [
  {
   "cell_type": "code",
   "execution_count": 4,
   "metadata": {},
   "outputs": [
    {
     "name": "stdout",
     "output_type": "stream",
     "text": [
      "0.23.2\n"
     ]
    }
   ],
   "source": [
    "# check scikit-learn version\n",
    "import sklearn\n",
    "print(sklearn.__version__)"
   ]
  },
  {
   "cell_type": "code",
   "execution_count": null,
   "metadata": {},
   "outputs": [],
   "source": []
  },
  {
   "cell_type": "code",
   "execution_count": 3,
   "metadata": {},
   "outputs": [
    {
     "name": "stdout",
     "output_type": "stream",
     "text": [
      "(1000, 10) (1000, 3)\n",
      "[[-0.99859353  2.19284309 -0.42632569 ... -0.87625098 -0.99445578\n",
      "  -0.3677487 ]\n",
      " [-0.88621913  0.58261383  0.13903253 ...  0.77270374  0.64154002\n",
      "  -1.13040409]\n",
      " [-0.66436784  0.27447937 -1.60099657 ... -1.19078841 -0.0367227\n",
      "  -0.54965583]\n",
      " ...\n",
      " [ 0.06468909  0.08012381 -1.3204591  ... -1.17063522  0.66082312\n",
      "   1.08846103]\n",
      " [-0.99720001 -0.5371702  -0.01041399 ... -0.05874157  0.63516738\n",
      "  -0.16871675]\n",
      " [ 0.05384091 -1.03029189 -1.13987039 ... -1.49285593  1.32674104\n",
      "   1.8478841 ]]\n",
      "[[-148.03723474  -80.63209848  -91.5736561 ]\n",
      " [ -82.27272654  -54.35420936 -114.40357938]\n",
      " [-160.04683144 -112.6928605   -78.47448648]\n",
      " ...\n",
      " [ -57.06470093   -3.65337026    5.37879727]\n",
      " [ -84.15214472  -28.85380227  -24.39982153]\n",
      " [ -28.32501715   35.58057957   93.02173732]]\n"
     ]
    }
   ],
   "source": [
    "# example of a multi-output regression problem\n",
    "from sklearn.datasets import make_regression\n",
    "# create dataset\n",
    "X, y = make_regression(n_samples=1000, n_features=10, n_informative=5, n_targets=3, random_state=2)\n",
    "# summarize shape\n",
    "print(X.shape, y.shape)\n",
    "\n",
    "print(X)\n",
    "print(y)"
   ]
  }
 ],
 "metadata": {
  "kernelspec": {
   "display_name": "Python 3",
   "language": "python",
   "name": "python3"
  },
  "language_info": {
   "codemirror_mode": {
    "name": "ipython",
    "version": 3
   },
   "file_extension": ".py",
   "mimetype": "text/x-python",
   "name": "python",
   "nbconvert_exporter": "python",
   "pygments_lexer": "ipython3",
   "version": "3.8.6"
  }
 },
 "nbformat": 4,
 "nbformat_minor": 4
}
