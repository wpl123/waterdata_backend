{
 "cells": [
  {
   "cell_type": "code",
   "execution_count": 7,
   "metadata": {},
   "outputs": [],
   "source": [
    "import pandas as pd\n",
    "import glob, os\n",
    "import time\n",
    "import datetime\n",
    "import csv\n",
    "\n",
    "\n",
    "localdate = datetime.datetime.now()\n",
    "meter_no = ''\n",
    "newdate = ''\n",
    "\n",
    "def normalizeDate(d):\n",
    "    return '/'.join(((\"00:00:00 \"+d[0:2]), d[3:5], (\"20\"+d[6:8])))\n",
    "\n",
    "\n",
    "files = glob.glob(\"GW967137.1.1.csv\")\n",
    "\n",
    "df1 = pd.concat([pd.read_csv(fp, index_col=False, header=None, skiprows=[0,1,2,3,4], usecols=[0,1,2,3,4,5,6] \\\n",
    "    ).assign(meter_no=os.path.basename(fp)) for fp in files])\n",
    "\n",
    "\n",
    "#initialise variables\n",
    "\n",
    "df1.fillna(value=0,inplace=True)\n",
    "\n",
    "comments='Intentionally blank'\n",
    "creation_date = localdate.strftime('%Y-%m-%d')\n",
    "\n",
    "fields = []\n",
    "with open('unformatted_data/GW967137.1.1.0.csv', 'w', newline='') as csvfile:\n",
    "    writer = csv.writer(csvfile,dialect='excel')\n",
    "\n",
    "    for i in range(len(df1)):\n",
    "\n",
    "        read_date = normalizeDate(df1.iloc[i, 0])\n",
    "        \n",
    "#        bl_bmp = df1.iloc[i, 1]\n",
    "#        ql_bmp = df1.iloc[i, 2]\n",
    "#        bl_ahd = df1.iloc[i, 3]\n",
    "#        ql_ahd = df1.iloc[i, 4]\n",
    "#        mean_temp = df1.iloc[i, 5]\n",
    "#        ql_temp = df1.iloc[i, 6]\n",
    "#        mn = df1.iloc[i, 7]\n",
    "#        mid = i\n",
    "\n",
    "#        fields = [read_date,bl_bmp.round(4),ql_bmp.round(),bl_ahd.round(4),ql_ahd.round(),mean_temp.round(4),ql_temp.round(),comments]\n",
    "\n",
    "\n",
    "        fields = [read_date,df1.iloc[i, 1],df1.iloc[i, 2],df1.iloc[i, 3],df1.iloc[i, 4],df1.iloc[i, 5],df1.iloc[i, 6],comments]\n",
    "\n",
    "        writer.writerow(map(lambda x: x, fields))"
   ]
  },
  {
   "cell_type": "code",
   "execution_count": null,
   "metadata": {},
   "outputs": [],
   "source": []
  }
 ],
 "metadata": {
  "kernelspec": {
   "display_name": "Python 3",
   "language": "python",
   "name": "python3"
  },
  "language_info": {
   "codemirror_mode": {
    "name": "ipython",
    "version": 3
   },
   "file_extension": ".py",
   "mimetype": "text/x-python",
   "name": "python",
   "nbconvert_exporter": "python",
   "pygments_lexer": "ipython3",
   "version": "3.8.6"
  }
 },
 "nbformat": 4,
 "nbformat_minor": 4
}
