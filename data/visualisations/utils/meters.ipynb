{
 "cells": [
  {
   "cell_type": "code",
   "execution_count": 1,
   "metadata": {},
   "outputs": [
    {
     "name": "stdout",
     "output_type": "stream",
     "text": [
      "(1, 'GW967137.1.1', 'Elfin Crossing SR15 - Aluvium', 0, Decimal('-30.4975833300'), Decimal('150.0813055600'), Decimal('258.7900000000'), Decimal('0E-10'), 'Initial load', 1, '', datetime.datetime(2020, 12, 10, 5, 5, 8), datetime.datetime(2020, 12, 10, 5, 5, 8))\n",
      "(2, 'GW967137.2.2', 'Elfin Crossing SR15 - Hardrock', 0, Decimal('-30.4975833300'), Decimal('150.0813055600'), Decimal('258.7900000000'), Decimal('0E-10'), 'Initial load', 1, '', datetime.datetime(2020, 12, 10, 5, 5, 8), datetime.datetime(2020, 12, 10, 5, 5, 8))\n",
      "(6, 'CF419051', 'Maules Creek at Avoca East - Stream Flow', 1, Decimal('-30.4952333300'), Decimal('150.0829000000'), Decimal('253.6050000000'), Decimal('0E-10'), 'Initial load', 1, '', datetime.datetime(2020, 12, 10, 5, 5, 8), datetime.datetime(2020, 12, 10, 5, 5, 8))\n",
      "(7, '54151', 'Mt Kaputar NP - Rainfall', 2, Decimal('-30.2800000000'), Decimal('150.1700000000'), Decimal('1450.0000000000'), Decimal('1.0000000000'), 'Initial load', 1, '', datetime.datetime(2020, 12, 10, 5, 5, 8), datetime.datetime(2020, 12, 10, 5, 5, 8))\n",
      "(8, 'GW030131.1.1', 'Harparary Rd SR11', 0, Decimal('-30.5039472200'), Decimal('150.5039472200'), Decimal('250.7300000000'), Decimal('0E-10'), 'Initial load', 1, '', datetime.datetime(2020, 12, 10, 5, 5, 8), datetime.datetime(2020, 12, 10, 5, 5, 8))\n",
      "(9, 'GW030129.1.1', 'Mardi Gras Rd SR15', 0, Decimal('-30.5206000000'), Decimal('150.0534000000'), Decimal('247.9700000000'), Decimal('0E-10'), 'Initial load', 1, '', datetime.datetime(2020, 12, 10, 5, 5, 8), datetime.datetime(2020, 12, 10, 5, 5, 8))\n",
      "(10, 'GW030130.1.1', 'Mardi Gras Rd SR15', 0, Decimal('-30.5140805600'), Decimal('150.0551111100'), Decimal('248.4500000000'), Decimal('0E-10'), 'Initial load', 1, '', datetime.datetime(2020, 12, 10, 5, 5, 8), datetime.datetime(2020, 12, 10, 5, 5, 8))\n",
      "(11, 'GW030130.1.2', 'Mardi Gras Rd SR15', 0, Decimal('-30.5142000000'), Decimal('150.0554000000'), Decimal('248.4500000000'), Decimal('0E-10'), 'Initial load', 1, '', datetime.datetime(2020, 12, 10, 5, 5, 8), datetime.datetime(2020, 12, 10, 5, 5, 8))\n"
     ]
    }
   ],
   "source": [
    "#connect to database\n",
    "\n",
    "import pymysql\n",
    "\n",
    "bores = [\"GW967137.1.1\", \"GW967137.2.2\", \"GW967138.1.1\", \"GW967138.2.2\", \"GW041027.1.1\"]\n",
    "\n",
    "def mysqlconnect(): \n",
    "    # To connect MySQL database \n",
    "\n",
    "  \n",
    "    conn = pymysql.connect(\n",
    "        # host='192.168.208.1',\n",
    "        host='192.168.11.6',\n",
    "        user='root', \n",
    "        password='water',\n",
    "        database='waterdata',\n",
    "        port=30000)\n",
    "    \n",
    "    \n",
    "    #assert connection == True\n",
    "    \n",
    "    cur = conn.cursor() \n",
    "      \n",
    "    # Get all bores where download is on\n",
    "    \n",
    "    cur.execute('SELECT * FROM meters WHERE get_data=1')\n",
    "    output = cur.fetchall() \n",
    "      \n",
    "    for i in output: \n",
    "        print(i) \n",
    "      \n",
    "    # To close the connection \n",
    "    conn.close() \n",
    "  \n",
    "# Driver Code \n",
    "if __name__ == \"__main__\" : \n",
    "    mysqlconnect()"
   ]
  },
  {
   "cell_type": "code",
   "execution_count": null,
   "metadata": {},
   "outputs": [],
   "source": []
  },
  {
   "cell_type": "code",
   "execution_count": 1,
   "metadata": {},
   "outputs": [
    {
     "ename": "ModuleNotFoundError",
     "evalue": "No module named 'mariadb'",
     "output_type": "error",
     "traceback": [
      "\u001b[0;31m---------------------------------------------------------------------------\u001b[0m",
      "\u001b[0;31mModuleNotFoundError\u001b[0m                       Traceback (most recent call last)",
      "\u001b[0;32m<ipython-input-1-8c7dfa85f256>\u001b[0m in \u001b[0;36m<module>\u001b[0;34m\u001b[0m\n\u001b[0;32m----> 1\u001b[0;31m \u001b[0;32mimport\u001b[0m \u001b[0mmariadb\u001b[0m\u001b[0;34m\u001b[0m\u001b[0;34m\u001b[0m\u001b[0m\n\u001b[0m\u001b[1;32m      2\u001b[0m \u001b[0;32mimport\u001b[0m \u001b[0msys\u001b[0m\u001b[0;34m\u001b[0m\u001b[0;34m\u001b[0m\u001b[0m\n\u001b[1;32m      3\u001b[0m \u001b[0;34m\u001b[0m\u001b[0m\n\u001b[1;32m      4\u001b[0m \u001b[0;31m# Connect to MariaDB Platform\u001b[0m\u001b[0;34m\u001b[0m\u001b[0;34m\u001b[0m\u001b[0;34m\u001b[0m\u001b[0m\n\u001b[1;32m      5\u001b[0m \u001b[0;32mtry\u001b[0m\u001b[0;34m:\u001b[0m\u001b[0;34m\u001b[0m\u001b[0;34m\u001b[0m\u001b[0m\n",
      "\u001b[0;31mModuleNotFoundError\u001b[0m: No module named 'mariadb'"
     ]
    }
   ],
   "source": []
  },
  {
   "cell_type": "code",
   "execution_count": null,
   "metadata": {},
   "outputs": [],
   "source": []
  }
 ],
 "metadata": {
  "kernelspec": {
   "display_name": "Python 3",
   "language": "python",
   "name": "python3"
  },
  "language_info": {
   "codemirror_mode": {
    "name": "ipython",
    "version": 3
   },
   "file_extension": ".py",
   "mimetype": "text/x-python",
   "name": "python",
   "nbconvert_exporter": "python",
   "pygments_lexer": "ipython3",
   "version": "3.8.6"
  }
 },
 "nbformat": 4,
 "nbformat_minor": 4
}
