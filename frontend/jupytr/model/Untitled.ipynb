{
 "cells": [
  {
   "cell_type": "code",
   "execution_count": 6,
   "metadata": {},
   "outputs": [
    {
     "name": "stdout",
     "output_type": "stream",
     "text": [
      "Epoch 1/10\n",
      "17/17 [==============================] - 1s 12ms/step - loss: 4.9696 - dense_10_loss: 3.3103 - dense_11_loss: 1.6593 - val_loss: 4.6391 - val_dense_10_loss: 3.6396 - val_dense_11_loss: 0.9995\n",
      "Epoch 2/10\n",
      "17/17 [==============================] - 0s 3ms/step - loss: 3.5393 - dense_10_loss: 2.0895 - dense_11_loss: 1.4497 - val_loss: 3.1688 - val_dense_10_loss: 2.3037 - val_dense_11_loss: 0.8652\n",
      "Epoch 3/10\n",
      "17/17 [==============================] - 0s 3ms/step - loss: 2.3397 - dense_10_loss: 1.0474 - dense_11_loss: 1.2922 - val_loss: 2.1442 - val_dense_10_loss: 1.2222 - val_dense_11_loss: 0.9220\n",
      "Epoch 4/10\n",
      "17/17 [==============================] - 0s 3ms/step - loss: 1.6542 - dense_10_loss: 0.4081 - dense_11_loss: 1.2460 - val_loss: 1.5593 - val_dense_10_loss: 0.5957 - val_dense_11_loss: 0.9637\n",
      "Epoch 5/10\n",
      "17/17 [==============================] - 0s 2ms/step - loss: 1.4793 - dense_10_loss: 0.2792 - dense_11_loss: 1.2001 - val_loss: 1.6198 - val_dense_10_loss: 0.6601 - val_dense_11_loss: 0.9597\n",
      "Epoch 6/10\n",
      "17/17 [==============================] - 0s 3ms/step - loss: 1.4095 - dense_10_loss: 0.2757 - dense_11_loss: 1.1338 - val_loss: 1.5889 - val_dense_10_loss: 0.6392 - val_dense_11_loss: 0.9497\n",
      "Epoch 7/10\n",
      "17/17 [==============================] - 0s 2ms/step - loss: 1.3336 - dense_10_loss: 0.2175 - dense_11_loss: 1.1161 - val_loss: 1.4921 - val_dense_10_loss: 0.5863 - val_dense_11_loss: 0.9059\n",
      "Epoch 8/10\n",
      "17/17 [==============================] - 0s 3ms/step - loss: 1.2771 - dense_10_loss: 0.2134 - dense_11_loss: 1.0637 - val_loss: 1.5447 - val_dense_10_loss: 0.5514 - val_dense_11_loss: 0.9933\n",
      "Epoch 9/10\n",
      "17/17 [==============================] - 0s 2ms/step - loss: 1.2077 - dense_10_loss: 0.1948 - dense_11_loss: 1.0129 - val_loss: 1.4537 - val_dense_10_loss: 0.5208 - val_dense_11_loss: 0.9329\n",
      "Epoch 10/10\n",
      "17/17 [==============================] - 0s 3ms/step - loss: 1.1705 - dense_10_loss: 0.1574 - dense_11_loss: 1.0131 - val_loss: 1.4297 - val_dense_10_loss: 0.5060 - val_dense_11_loss: 0.9237\n"
     ]
    }
   ],
   "source": [
    "import seaborn as sns\n",
    "from pylab import rcParams\n",
    "import matplotlib.pyplot as plt\n",
    "from matplotlib import rc\n",
    "from sklearn.model_selection import train_test_split\n",
    "from pandas.plotting import register_matplotlib_converters\n",
    "\n",
    "from sklearn.datasets import load_iris\n",
    "from tensorflow.keras.layers import Dense\n",
    "from tensorflow.keras import Input, Model\n",
    "\n",
    "\n",
    "\n",
    "data, target = load_iris(return_X_y=True)\n",
    "X = data[:, (0, 1, 2)]\n",
    "Y = data[:, 3]\n",
    "Z = target\n",
    "\n",
    "inputs = Input(shape=(3,))\n",
    "x = Dense(16, activation='relu')(inputs)\n",
    "x = Dense(32, activation='relu')(x)\n",
    "output1 = Dense(1)(x)\n",
    "output2 = Dense(3, activation='softmax')(x)\n",
    "\n",
    "model = Model(inputs=inputs, outputs=[output1, output2])\n",
    "\n",
    "model.compile(loss=['mae', 'sparse_categorical_crossentropy'], optimizer='adam')\n",
    "\n",
    "history = model.fit(X, \n",
    "                    [Y, Z],\n",
    "                    validation_split=0.1,\n",
    "                    epochs=10, \n",
    "                    batch_size=8)\n"
   ]
  },
  {
   "cell_type": "code",
   "execution_count": 7,
   "metadata": {},
   "outputs": [
    {
     "data": {
      "image/png": "[encoded data removed]",
      "text/plain": [
       "<Figure size 432x288 with 1 Axes>"
      ]
     },
     "metadata": {
      "needs_background": "light"
     },
     "output_type": "display_data"
    }
   ],
   "source": [
    "plt.plot(history.history['loss'], label='train')\n",
    "plt.plot(history.history['val_loss'], label='test')\n",
    "plt.legend();"
   ]
  },
  {
   "cell_type": "code",
   "execution_count": null,
   "metadata": {},
   "outputs": [],
   "source": []
  }
 ],
 "metadata": {
  "kernelspec": {
   "display_name": "Python 3",
   "language": "python",
   "name": "python3"
  },
  "language_info": {
   "codemirror_mode": {
    "name": "ipython",
    "version": 3
   },
   "file_extension": ".py",
   "mimetype": "text/x-python",
   "name": "python",
   "nbconvert_exporter": "python",
   "pygments_lexer": "ipython3",
   "version": "3.8.6"
  }
 },
 "nbformat": 4,
 "nbformat_minor": 4
}
