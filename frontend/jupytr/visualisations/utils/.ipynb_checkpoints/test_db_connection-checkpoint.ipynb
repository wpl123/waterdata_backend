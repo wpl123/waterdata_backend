{
 "cells": [
  {
   "cell_type": "code",
   "execution_count": null,
   "metadata": {},
   "outputs": [],
   "source": [
    "#connect to database\n",
    "\n",
    "import pymysql\n",
    "\n",
    "bores = [\"GW967137.1.1\", \"GW967137.2.2\", \"GW967138.1.1\", \"GW967138.2.2\", \"GW041027.1.1\"]\n",
    "\n",
    "def mysqlconnect(): \n",
    "    # To connect MySQL database \n",
    "\n",
    "  \n",
    "    conn = pymysql.connect(\n",
    "        # host='192.168.208.1',\n",
    "        host='192.168.11.6',\n",
    "        user='root', \n",
    "        password='water',\n",
    "        database='waterdata',\n",
    "        port=30000)\n",
    "    \n",
    "    \n",
    "    #assert connection == True\n",
    "    \n",
    "    cur = conn.cursor() \n",
    "      \n",
    "    # Get all bores where download is on\n",
    "    \n",
    "    cur.execute('SELECT * FROM meters WHERE get_data=1')\n",
    "    output = cur.fetchall() \n",
    "      \n",
    "    for i in output: \n",
    "        print(i) \n",
    "      \n",
    "    # To close the connection \n",
    "    conn.close() \n",
    "  \n",
    "# Driver Code \n",
    "if __name__ == \"__main__\" : \n",
    "    mysqlconnect()"
   ]
  }
 ],
 "metadata": {
  "kernelspec": {
   "display_name": "Python 3",
   "language": "python",
   "name": "python3"
  },
  "language_info": {
   "codemirror_mode": {
    "name": "ipython",
    "version": 3
   },
   "file_extension": ".py",
   "mimetype": "text/x-python",
   "name": "python",
   "nbconvert_exporter": "python",
   "pygments_lexer": "ipython3",
   "version": "3.8.6"
  }
 },
 "nbformat": 4,
 "nbformat_minor": 4
}
