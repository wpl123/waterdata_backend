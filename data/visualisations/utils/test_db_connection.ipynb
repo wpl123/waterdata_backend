{
 "cells": [
  {
   "cell_type": "code",
   "execution_count": 1,
   "metadata": {},
   "outputs": [
    {
     "name": "stdout",
     "output_type": "stream",
     "text": [
      "(1, 'GW967137.1.1', 'Elfin Crossing SR15 - Aluvium', 3, Decimal('-30.4975833300'), Decimal('150.0813055600'), Decimal('258.7900000000'), Decimal('0E-10'), 'Initial load', 1, 'https://realtimedata.waternsw.com.au?ppbm=GW967137.1.1|419_NAMOI|GROUND_WATER&gw&1&gwcf_org', datetime.datetime(2021, 1, 27, 17, 4, 47), datetime.datetime(2020, 12, 14, 1, 55, 41))\n",
      "(2, 'GW967137.2.2', 'Elfin Crossing SR15 - Hardrock', 3, Decimal('-30.4975833300'), Decimal('150.0813055600'), Decimal('258.7900000000'), Decimal('0E-10'), 'Initial load', 1, 'https://realtimedata.waternsw.com.au?ppbm=GW967137.2.2|419_NAMOI|GROUND_WATER&gw&1&gwcf_org', datetime.datetime(2021, 1, 27, 17, 4, 48), datetime.datetime(2020, 12, 14, 1, 55, 41))\n",
      "(3, 'GW967138.1.1', 'Green Gully SR11 - Aluvium', 3, Decimal('-30.4995666700'), Decimal('150.1557222200'), Decimal('288.5500000000'), Decimal('0E-10'), 'Initial load', 1, 'https://realtimedata.waternsw.com.au/?ppbm=GW967138.1.1|419_NAMOI|GROUND_WATER&gw&1&gwcf_org', datetime.datetime(2021, 1, 27, 17, 4, 49), datetime.datetime(2020, 12, 14, 1, 55, 41))\n",
      "(4, 'GW967138.2.2', 'Green Gully SR11 - Hardrock', 3, Decimal('-30.4994722200'), Decimal('150.1556944400'), Decimal('288.1300000000'), Decimal('0E-10'), 'Initial load', 1, 'https://realtimedata.waternsw.com.au/?ppbm=GW967138.2.2|419_NAMOI|GROUND_WATER&gw&1&gwcf_org', datetime.datetime(2021, 1, 27, 17, 4, 51), datetime.datetime(2020, 12, 14, 1, 55, 41))\n",
      "(5, 'GW041027.1.1', 'Thornfield Crossing SR138 - Hardrock', 3, Decimal('-30.5178850000'), Decimal('150.2148190000'), Decimal('0E-10'), Decimal('0E-10'), 'Initial load', 1, 'https://realtimedata.waternsw.com.au?ppbm=GW041027.1.1|419_NAMOI|GROUND_WATER&gw&1&gwcf_org', datetime.datetime(2021, 1, 27, 17, 4, 52), datetime.datetime(2020, 12, 14, 1, 55, 41))\n",
      "(6, 'CF419051', 'Maules Creek at Avoca East - Stream Flow', 1, Decimal('-30.4952333300'), Decimal('150.0829000000'), Decimal('253.6050000000'), Decimal('0E-10'), 'Initial load', 1, 'https://realtimedata.waternsw.com.au?ppbm=419051|419_NAMOI|SURFACE_WATER&rs&1&rscf_org', datetime.datetime(2021, 1, 28, 12, 30, 2), datetime.datetime(2020, 12, 14, 1, 55, 41))\n",
      "(8, 'GW030131.1.1', 'Harparary Rd SR11', 3, Decimal('-30.5039472200'), Decimal('150.5039472200'), Decimal('250.7300000000'), Decimal('0E-10'), 'Initial load', 1, 'https://realtimedata.waternsw.com.au?ppbm=GW030131.1.1|419_NAMOI|GROUND_WATER&gw&1&gwcf_org', datetime.datetime(2021, 1, 27, 17, 4, 54), datetime.datetime(2020, 12, 14, 1, 55, 41))\n",
      "(9, 'GW030129.1.1', 'Mardi Gras Rd SR15', 3, Decimal('-30.5206000000'), Decimal('150.0534000000'), Decimal('247.9700000000'), Decimal('0E-10'), 'Initial load', 1, 'https://realtimedata.waternsw.com.au?ppbm=GW030129.1.1|419_NAMOI|GROUND_WATER&gw&1&gwcf_org', datetime.datetime(2021, 1, 27, 17, 4, 55), datetime.datetime(2020, 12, 14, 1, 55, 41))\n",
      "(10, 'GW030130.1.1', 'Mardi Gras Rd SR15', 3, Decimal('-30.5140805600'), Decimal('150.0551111100'), Decimal('248.4500000000'), Decimal('0E-10'), 'Initial load', 1, 'https://realtimedata.waternsw.com.au?ppbm=GW030130.1.1|419_NAMOI|GROUND_WATER&gw&1&gwcf_org', datetime.datetime(2021, 1, 27, 17, 4, 56), datetime.datetime(2020, 12, 14, 1, 55, 41))\n",
      "(11, 'GW030130.1.2', 'Mardi Gras Rd SR15', 3, Decimal('-30.5142000000'), Decimal('150.0554000000'), Decimal('248.4500000000'), Decimal('0E-10'), 'Initial load', 1, 'https://realtimedata.waternsw.com.au?ppbm=GW030130.1.1|419_NAMOI|GROUND_WATER&gw&1&gwcf_org', datetime.datetime(2021, 1, 27, 17, 4, 57), datetime.datetime(2020, 12, 14, 1, 55, 41))\n",
      "(12, 'GW030233.1.1', 'Currawidgen', 2, Decimal('-30.4603700000'), Decimal('149.9803030000'), Decimal('233.8500000000'), Decimal('0E-10'), 'Initial load', 1, 'https://realtimedata.waternsw.com.au?ppbm=GW030233.1.1|419_NAMOI|GROUND_WATER&gw&1&gwcf_org', datetime.datetime(2021, 1, 27, 17, 4, 58), datetime.datetime(2020, 12, 14, 1, 55, 41))\n",
      "(13, 'GW030233.1.3', 'Currawidgen', 2, Decimal('-30.4603736000'), Decimal('149.9803030000'), Decimal('233.8500000000'), Decimal('0E-10'), 'Initial load', 1, 'https://realtimedata.waternsw.com.au?ppbm=GW030233.1.3|419_NAMOI|GROUND_WATER&gw&1&gwcf_org', datetime.datetime(2021, 1, 27, 17, 4, 59), datetime.datetime(2020, 12, 14, 1, 55, 41))\n",
      "(14, 'GW036005.1.1', 'Harparary Rd', 2, Decimal('-30.5573179000'), Decimal('149.9916929800'), Decimal('234.0100000000'), Decimal('0E-10'), 'Initial load', 1, 'https://realtimedata.waternsw.com.au?ppbm=GW036005.1.1|419_NAMOI|GROUND_WATER&gw&1&gwcf_org', datetime.datetime(2021, 1, 27, 17, 5, 1), datetime.datetime(2020, 12, 14, 1, 55, 41))\n",
      "(15, 'GW036005.1.2', 'Harparary Rd', 2, Decimal('-30.5573179000'), Decimal('149.9916929800'), Decimal('234.0100000000'), Decimal('0E-10'), 'Initial load', 1, 'https://realtimedata.waternsw.com.au?ppbm=GW036005.1.2|419_NAMOI|GROUND_WATER&gw&1&gwcf_org', datetime.datetime(2021, 1, 27, 17, 5, 2), datetime.datetime(2020, 12, 14, 1, 55, 41))\n",
      "(16, 'GW036186.1.1', 'Merriendi Crossing', 3, Decimal('-30.5335372200'), Decimal('150.0227333300'), Decimal('239.0700000000'), Decimal('1.0000000000'), 'Initial load', 1, 'https://realtimedata.waternsw.com.au?ppbm=GW036186.1.1|419_NAMOI|GROUND_WATER&gw&1&gwcf_org', datetime.datetime(2021, 1, 27, 17, 5, 3), datetime.datetime(2020, 12, 14, 1, 55, 41))\n",
      "(17, 'GW036187.1.1', 'Merriendi Rd SR16', 2, Decimal('-30.5335777800'), Decimal('150.0334730600'), Decimal('241.3800000000'), Decimal('1.0000000000'), 'Initial load', 1, 'https://realtimedata.waternsw.com.au?ppbm=GW036187.1.1|419_NAMOI|GROUND_WATER&gw&1&gwcf_org', datetime.datetime(2021, 1, 27, 17, 5, 4), datetime.datetime(2020, 12, 14, 1, 55, 41))\n"
     ]
    }
   ],
   "source": [
    "#connect to database\n",
    "\n",
    "import pymysql\n",
    "\n",
    "bores = [\"GW967137.1.1\", \"GW967137.2.2\", \"GW967138.1.1\", \"GW967138.2.2\", \"GW041027.1.1\"]\n",
    "\n",
    "def mysqlconnect(): \n",
    "    # To connect MySQL database \n",
    "\n",
    "  \n",
    "    conn = pymysql.connect(\n",
    "        # host='192.168.208.1',\n",
    "        host='192.168.11.6',\n",
    "        user='root', \n",
    "        password='water',\n",
    "        database='waterdata',\n",
    "        port=30000)\n",
    "    \n",
    "    \n",
    "    #assert connection == True\n",
    "    \n",
    "    cur = conn.cursor() \n",
    "      \n",
    "    # Get all bores where download is on\n",
    "    \n",
    "    cur.execute('SELECT * FROM meters WHERE get_data=1')\n",
    "    output = cur.fetchall() \n",
    "      \n",
    "    for i in output: \n",
    "        print(i) \n",
    "      \n",
    "    # To close the connection \n",
    "    conn.close() \n",
    "  \n",
    "# Driver Code \n",
    "if __name__ == \"__main__\" : \n",
    "    mysqlconnect()"
   ]
  },
  {
   "cell_type": "code",
   "execution_count": null,
   "metadata": {},
   "outputs": [],
   "source": []
  }
 ],
 "metadata": {
  "kernelspec": {
   "display_name": "Python 3",
   "language": "python",
   "name": "python3"
  },
  "language_info": {
   "codemirror_mode": {
    "name": "ipython",
    "version": 3
   },
   "file_extension": ".py",
   "mimetype": "text/x-python",
   "name": "python",
   "nbconvert_exporter": "python",
   "pygments_lexer": "ipython3",
   "version": "3.8.6"
  }
 },
 "nbformat": 4,
 "nbformat_minor": 4
}
